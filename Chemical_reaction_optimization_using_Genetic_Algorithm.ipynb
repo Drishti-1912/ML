{
  "nbformat": 4,
  "nbformat_minor": 0,
  "metadata": {
    "colab": {
      "provenance": []
    },
    "kernelspec": {
      "name": "python3",
      "display_name": "Python 3"
    },
    "language_info": {
      "name": "python"
    }
  },
  "cells": [
    {
      "cell_type": "code",
      "execution_count": null,
      "metadata": {
        "colab": {
          "base_uri": "https://localhost:8080/"
        },
        "id": "uJxneHPsf7fj",
        "outputId": "7908c667-b13d-49f8-80ed-d087b6c46e74"
      },
      "outputs": [
        {
          "output_type": "stream",
          "name": "stdout",
          "text": [
            "Best solution: [9.65011673e-01 3.45496244e+02 1.00336127e+00 3.83624562e-04]\n",
            "Best yield: 866187.9901619582\n",
            "Temperature constraint: 45.49624355968126\n"
          ]
        }
      ],
      "source": [
        "import numpy as np\n",
        "\n",
        "# Define chemical reaction process parameters\n",
        "num_parameters = 4\n",
        "parameter_bounds = [(0.1, 1.0), (200, 400), (1, 10), (0, 0.5)]  # Example bounds for reactant concentration, temperature, pressure, catalyst concentration\n",
        "\n",
        "# Define genetic algorithm parameters\n",
        "population_size = 50\n",
        "num_generations = 100\n",
        "mutation_rate = 0.1\n",
        "crossover_rate = 0.8\n",
        "\n",
        "# Define chemical reaction process model (objective function)\n",
        "def chemical_reaction(parameters):\n",
        "    concentration, temperature, pressure, catalyst_concentration = parameters\n",
        "    # Example objective function (e.g., yield)\n",
        "    yield_ = concentration * temperature / (pressure * catalyst_concentration)\n",
        "    # Example constraint (e.g., temperature must be within a certain range)\n",
        "    temperature_constraint = temperature - 300  # Example constraint\n",
        "    return yield_, temperature_constraint\n",
        "\n",
        "# Initialize population\n",
        "def initialize_population(population_size, num_parameters):\n",
        "    population = np.random.rand(population_size, num_parameters)\n",
        "    for i in range(num_parameters):\n",
        "        min_val, max_val = parameter_bounds[i]\n",
        "        population[:, i] = population[:, i] * (max_val - min_val) + min_val\n",
        "    return population\n",
        "\n",
        "# Evaluate population fitness\n",
        "def evaluate_population(population):\n",
        "    fitness = []\n",
        "    constraints = []\n",
        "    for parameters in population:\n",
        "        yield_, temperature_constraint = chemical_reaction(parameters)\n",
        "        fitness.append(yield_)\n",
        "        constraints.append(temperature_constraint)\n",
        "    return np.array(fitness), np.array(constraints)\n",
        "\n",
        "# Select parents for crossover\n",
        "def select_parents(population, fitness):\n",
        "    idx = np.random.choice(len(population), size=2, replace=False, p=fitness/fitness.sum())\n",
        "    return population[idx]\n",
        "\n",
        "# Apply crossover\n",
        "def crossover(parent1, parent2):\n",
        "    crossover_point = np.random.randint(1, len(parent1))\n",
        "    child1 = np.concatenate((parent1[:crossover_point], parent2[crossover_point:]))\n",
        "    child2 = np.concatenate((parent2[:crossover_point], parent1[crossover_point:]))\n",
        "    return child1, child2\n",
        "\n",
        "# Apply mutation\n",
        "def mutate(child):\n",
        "    for i in range(len(child)):\n",
        "        if np.random.rand() < mutation_rate:\n",
        "            min_val, max_val = parameter_bounds[i]\n",
        "            child[i] = np.random.uniform(min_val, max_val)\n",
        "    return child\n",
        "\n",
        "# Genetic algorithm main loop\n",
        "def genetic_algorithm():\n",
        "    population = initialize_population(population_size, num_parameters)\n",
        "    for _ in range(num_generations):\n",
        "        fitness, _ = evaluate_population(population)\n",
        "        new_population = []\n",
        "        for _ in range(int(population_size / 2)):\n",
        "            parent1, parent2 = select_parents(population, fitness)\n",
        "            child1, child2 = crossover(parent1, parent2)\n",
        "            child1 = mutate(child1)\n",
        "            child2 = mutate(child2)\n",
        "            new_population.extend([child1, child2])\n",
        "        population = np.array(new_population)\n",
        "    best_solution_idx = np.argmax(fitness)  # Maximize yield\n",
        "    best_solution = population[best_solution_idx]\n",
        "    best_yield, temperature_constraint = chemical_reaction(best_solution)\n",
        "    return best_solution, best_yield, temperature_constraint\n",
        "\n",
        "# Run genetic algorithm\n",
        "best_solution, best_yield, temperature_constraint = genetic_algorithm()\n",
        "\n",
        "# Print results\n",
        "print(\"Best solution:\", best_solution)\n",
        "print(\"Best yield:\", best_yield)\n",
        "print(\"Temperature constraint:\", temperature_constraint)\n",
        "\n"
      ]
    }
  ]
}